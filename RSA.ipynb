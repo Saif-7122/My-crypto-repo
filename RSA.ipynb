{
 "cells": [
  {
   "cell_type": "code",
   "execution_count": 6,
   "id": "b47579ff",
   "metadata": {},
   "outputs": [
    {
     "name": "stdout",
     "output_type": "stream",
     "text": [
      "Public Key: (e = 11 , n = 221 )\n",
      "Private Key: d = 35\n",
      "Encrypted Message: C = 173\n",
      "Decrypted Message: M' = 10\n"
     ]
    }
   ],
   "source": [
    "# declare values\n",
    "m=10\n",
    "p=13\n",
    "q=17\n",
    "e=11\n",
    "\n",
    "#compute n and phi n\n",
    "n=p*q\n",
    "phi_n=(p-1)-(q-1)\n",
    "\n",
    "#find d such that e*d mod phi_n = 1 # def (e,phi) and for d in range (1,phi)\n",
    "def mod_inv(e,phi):\n",
    "    for d in range(1,phi):\n",
    "        if (d*e)%phi == 1:\n",
    "            return d\n",
    "    return None\n",
    "\n",
    "d = mod_inv(e,  phi)\n",
    "# Step 4: Encryption: C = M^e % n\n",
    "C = pow(M, e, n)\n",
    "\n",
    "# Step 5: Decryption: M' = C^d % n\n",
    "M_decrypted = pow(C, d, n)\n",
    "\n",
    "# Output results\n",
    "print(\"Public Key: (e =\", e, \", n =\", n, \")\")\n",
    "print(\"Private Key: d =\", d)\n",
    "print(\"Encrypted Message: C =\", C)\n",
    "print(\"Decrypted Message: M' =\", M_decrypted)\n"
   ]
  },
  {
   "cell_type": "code",
   "execution_count": 5,
   "id": "d52b0d87",
   "metadata": {},
   "outputs": [
    {
     "name": "stdout",
     "output_type": "stream",
     "text": [
      "Public Key: (e = 11 , n = 221 )\n",
      "Private Key: d = 35\n",
      "Encrypted Message: C = 173\n",
      "Decrypted Message: M' = 10\n"
     ]
    }
   ],
   "source": [
    "# RSA Simple Implementation\n",
    "\n",
    "# Step 1: Given values\n",
    "p = 13\n",
    "q = 17\n",
    "e = 11\n",
    "M = 10  # message\n",
    "\n",
    "# Step 2: Compute n and phi(n)\n",
    "n = p * q             # n = 13 * 17 = 221\n",
    "phi = (p - 1) * (q - 1)  # phi = 12 * 16 = 192\n",
    "\n",
    "# Step 3: Find d such that (d * e) % phi == 1 (modular inverse of e)\n",
    "def mod_inv(e, phi):\n",
    "    for d in range(1, phi):\n",
    "        if (d * e) % phi == 1:\n",
    "            return d\n",
    "    return None\n",
    "\n",
    "d = mod_inv(e, phi)\n",
    "\n",
    "# Step 4: Encryption: C = M^e % n\n",
    "C = pow(M, e, n)\n",
    "\n",
    "# Step 5: Decryption: M' = C^d % n\n",
    "M_decrypted = pow(C, d, n)\n",
    "\n",
    "# Output results\n",
    "print(\"Public Key: (e =\", e, \", n =\", n, \")\")\n",
    "print(\"Private Key: d =\", d)\n",
    "print(\"Encrypted Message: C =\", C)\n",
    "print(\"Decrypted Message: M' =\", M_decrypted)\n"
   ]
  },
  {
   "cell_type": "code",
   "execution_count": null,
   "id": "6006cd74",
   "metadata": {},
   "outputs": [],
   "source": []
  }
 ],
 "metadata": {
  "kernelspec": {
   "display_name": "Python 3",
   "language": "python",
   "name": "python3"
  },
  "language_info": {
   "codemirror_mode": {
    "name": "ipython",
    "version": 3
   },
   "file_extension": ".py",
   "mimetype": "text/x-python",
   "name": "python",
   "nbconvert_exporter": "python",
   "pygments_lexer": "ipython3",
   "version": "3.12.0"
  }
 },
 "nbformat": 4,
 "nbformat_minor": 5
}
