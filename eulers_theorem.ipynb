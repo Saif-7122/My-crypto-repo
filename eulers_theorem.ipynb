{
 "cells": [
  {
   "cell_type": "code",
   "execution_count": 4,
   "id": "8780503d",
   "metadata": {},
   "outputs": [
    {
     "name": "stdout",
     "output_type": "stream",
     "text": [
      "The inverse of 7 mod 40 is 23.\n"
     ]
    }
   ],
   "source": [
    "def phi(n):\n",
    "    result = n\n",
    "    i = 2\n",
    "    while i <= n:\n",
    "        if n % i == 0:\n",
    "            while n % i == 0:\n",
    "                n //= i\n",
    "            result -= result // i\n",
    "        i += 1\n",
    "    return result\n",
    "\n",
    "# Example: Find inverse of a mod m\n",
    "a = 7\n",
    "m = 40\n",
    "\n",
    "phi_m = phi(m)\n",
    "inv = pow(a, phi_m - 1, m)\n",
    "print(f\"The inverse of {a} mod {m} is {inv}.\")\n",
    "       \n",
    "    "
   ]
  },
  {
   "cell_type": "code",
   "execution_count": null,
   "id": "ec6bb322",
   "metadata": {},
   "outputs": [],
   "source": []
  }
 ],
 "metadata": {
  "kernelspec": {
   "display_name": "Python 3",
   "language": "python",
   "name": "python3"
  },
  "language_info": {
   "codemirror_mode": {
    "name": "ipython",
    "version": 3
   },
   "file_extension": ".py",
   "mimetype": "text/x-python",
   "name": "python",
   "nbconvert_exporter": "python",
   "pygments_lexer": "ipython3",
   "version": "3.12.0"
  }
 },
 "nbformat": 4,
 "nbformat_minor": 5
}
