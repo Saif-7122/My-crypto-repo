{
 "cells": [
  {
   "cell_type": "code",
   "execution_count": null,
   "id": "53928432",
   "metadata": {},
   "outputs": [
    {
     "name": "stdout",
     "output_type": "stream",
     "text": [
      "1362\n"
     ]
    }
   ],
   "source": [
    "a= -74342139\n",
    "b = 2349\n",
    "c=a % b\n",
    "print(c)"
   ]
  },
  {
   "cell_type": "code",
   "execution_count": null,
   "id": "b1ab7144",
   "metadata": {},
   "outputs": [
    {
     "name": "stdout",
     "output_type": "stream",
     "text": [
      "987\n"
     ]
    }
   ],
   "source": [
    "a=74342139\n",
    "b = 2349\n",
    "c = a % b\n",
    "print(c)"
   ]
  },
  {
   "cell_type": "code",
   "execution_count": 3,
   "id": "2ebdd281",
   "metadata": {},
   "outputs": [
    {
     "name": "stdout",
     "output_type": "stream",
     "text": [
      "a: 74342139\n",
      "b: 2349\n",
      "a % b: 987\n"
     ]
    }
   ],
   "source": [
    "a = 74342139\n",
    "b = 2349\n",
    "c = a % b\n",
    "print(\"a:\", a)\n",
    "print(\"b:\", b)\n",
    "print(\"a % b:\", c)\n"
   ]
  },
  {
   "cell_type": "code",
   "execution_count": 4,
   "id": "9a1f2a8f",
   "metadata": {},
   "outputs": [
    {
     "name": "stdout",
     "output_type": "stream",
     "text": [
      "987\n"
     ]
    }
   ],
   "source": [
    "print(74342139 % 2349)\n"
   ]
  },
  {
   "cell_type": "code",
   "execution_count": 5,
   "id": "fba33cb3",
   "metadata": {},
   "outputs": [
    {
     "name": "stdout",
     "output_type": "stream",
     "text": [
      "Manual calc: 987\n"
     ]
    }
   ],
   "source": [
    "a = 74342139\n",
    "b = 2349\n",
    "print(\"Manual calc:\", a - (a // b) * b)\n"
   ]
  },
  {
   "cell_type": "code",
   "execution_count": 6,
   "id": "2a9740c0",
   "metadata": {},
   "outputs": [
    {
     "data": {
      "text/plain": [
       "987"
      ]
     },
     "execution_count": 6,
     "metadata": {},
     "output_type": "execute_result"
    }
   ],
   "source": [
    "pow(74342139, 1, 2349)\n"
   ]
  },
  {
   "cell_type": "code",
   "execution_count": 15,
   "id": "76fc35de",
   "metadata": {},
   "outputs": [
    {
     "name": "stdout",
     "output_type": "stream",
     "text": [
      "GCD: 1\n"
     ]
    }
   ],
   "source": [
    "def gcd(a,b):\n",
    "    while b != 0:\n",
    "        temp = a\n",
    "        a=b\n",
    "        b = temp % a\n",
    "    return a\n",
    "    \n",
    "\n",
    "a = 24912943\n",
    "b = 171723\n",
    "gcd_result = gcd(a,b)\n",
    "print(\"GCD:\", gcd_result)  # Output: GCD: 1"
   ]
  },
  {
   "cell_type": "code",
   "execution_count": null,
   "id": "4a21165c",
   "metadata": {},
   "outputs": [
    {
     "name": "stdout",
     "output_type": "stream",
     "text": [
      "6\n"
     ]
    }
   ],
   "source": [
    "def gcd(a,b):\n",
    "    while b != 0:\n",
    "        temp = a\n",
    "        a = b\n",
    "        b = temp % b\n",
    "    return a\n",
    "\n",
    "gcd_result = gcd(a,b)\n",
    "print(\"GCD:\", gcd_result)\n"
   ]
  },
  {
   "cell_type": "code",
   "execution_count": null,
   "id": "afd66e87",
   "metadata": {},
   "outputs": [],
   "source": []
  }
 ],
 "metadata": {
  "kernelspec": {
   "display_name": "Python 3",
   "language": "python",
   "name": "python3"
  },
  "language_info": {
   "codemirror_mode": {
    "name": "ipython",
    "version": 3
   },
   "file_extension": ".py",
   "mimetype": "text/x-python",
   "name": "python",
   "nbconvert_exporter": "python",
   "pygments_lexer": "ipython3",
   "version": "3.12.0"
  }
 },
 "nbformat": 4,
 "nbformat_minor": 5
}
