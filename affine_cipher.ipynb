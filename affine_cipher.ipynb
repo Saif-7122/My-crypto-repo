{
 "cells": [
  {
   "cell_type": "code",
   "execution_count": 9,
   "id": "20feba91",
   "metadata": {},
   "outputs": [
    {
     "name": "stdout",
     "output_type": "stream",
     "text": [
      "Encrypted message: fzzfdv\n"
     ]
    }
   ],
   "source": [
    "#Affine Cipher _encryption\n",
    "\n",
    "### This program implements the Affine Cipher encryption algorithm.\n",
    "\n",
    "def encrypt_affine(text, a, b):\n",
    "    result  = ''  #variable to store encrypted result\n",
    "    # loop through each charachter in input text\n",
    "    for char in text:\n",
    "        if char.isalpha(): # check if char is a letter\n",
    "            ch = char.lower() #convert char to lowercase and store in ch\n",
    "            x = ord(ch) - ord('a') #convert letter to number (ASCII value)\n",
    "            encrypted = (a * x + b) % 26 # affine cipher formula\n",
    "            result += chr(encrypted + ord('a')) #convert back to letter and add to result\n",
    "        else:\n",
    "            result += char #if char is not a letter , keep it unchanged\n",
    "\n",
    "    return result #return the encrypted result      \n",
    "msg = input(\"Enter the message to encrypt: \") #input message to encrypt\n",
    "a = int(input(\"Enter the value of a (must be coprime to 26): \")) #input value of a\n",
    "b = int(input(\"Enter the value of b: \")) #input value of b\n",
    "\n",
    "## call the encryption function\n",
    " \n",
    "cipher_text = encrypt_affine(msg, a, b) \n",
    "\n",
    "##print the encrypted message\n",
    "print(\"Encrypted message:\", cipher_text) #output the encrypted message"
   ]
  },
  {
   "cell_type": "code",
   "execution_count": 10,
   "id": "58bc893e",
   "metadata": {},
   "outputs": [
    {
     "name": "stdout",
     "output_type": "stream",
     "text": [
      "invalid  key 'a'. No mod inverse exists\n"
     ]
    }
   ],
   "source": [
    "def mod_inverse(a):\n",
    "    for i in range (26):\n",
    "        if(a*i) % 26 ==1:\n",
    "            return i\n",
    "    return -1\n",
    "\n",
    "# decrypted message \n",
    "def decrypt_affine(cipher, a, b):\n",
    "    result = '' #variable to store decrypted result\n",
    "    a_inv = mod_inverse(a) #calculate modular inverse of a\n",
    "\n",
    "    if a_inv == -1: #mod inverse does not exist\n",
    "        return \"invalid  key 'a'. No mod inverse exists\"\n",
    "    \n",
    "    # Loop through each charachter encrypted\n",
    "    for char in cipher:\n",
    "        if char.isalpha():\n",
    "            ch = char.lower()\n",
    "            y = ord(ch) - ord('a')\n",
    "            decrypted=(a_inv*(y-b))%26\n",
    "            result += chr(decrypted + ord('a')) \n",
    "        else:\n",
    "            result += char\n",
    "    return result\n",
    "\n",
    "cipher_text = input(\"Enter the message to decrypt: \") #input message to decrypt \n",
    "a = int(input(\"Enter the key a : \")) #input value of a  \n",
    "b = int(input(\"Enter the key of b: \")) #input value of b  \n",
    "\n",
    "#call the decryption function to store the result\n",
    "original_message = decrypt_affine(cipher_text, a, b)\n",
    "\n",
    "#print the decrypted original msg\n",
    "print(original_message)\n",
    "\n",
    "\n",
    "\n"
   ]
  },
  {
   "cell_type": "code",
   "execution_count": null,
   "id": "314a301a",
   "metadata": {},
   "outputs": [],
   "source": []
  }
 ],
 "metadata": {
  "kernelspec": {
   "display_name": "Python 3",
   "language": "python",
   "name": "python3"
  },
  "language_info": {
   "codemirror_mode": {
    "name": "ipython",
    "version": 3
   },
   "file_extension": ".py",
   "mimetype": "text/x-python",
   "name": "python",
   "nbconvert_exporter": "python",
   "pygments_lexer": "ipython3",
   "version": "3.12.0"
  }
 },
 "nbformat": 4,
 "nbformat_minor": 5
}
