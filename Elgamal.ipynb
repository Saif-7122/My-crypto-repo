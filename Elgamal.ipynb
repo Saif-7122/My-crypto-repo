{
 "cells": [
  {
   "cell_type": "code",
   "execution_count": 8,
   "id": "fb261ca4",
   "metadata": {},
   "outputs": [
    {
     "name": "stdout",
     "output_type": "stream",
     "text": [
      "Ciphertext: ( 7 , 36 )\n",
      "Decrypted Message: 6\n"
     ]
    }
   ],
   "source": [
    "#declaring the variables\n",
    "p=11\n",
    "e1=8\n",
    "d=7\n",
    "M=6\n",
    "r=9\n",
    "\n",
    "#CALCULATING PUBLIC KEY E2\n",
    "e2=pow(e1,d,p)\n",
    "\n",
    "#ENCRYPTION\n",
    "\n",
    "C1=pow(e1, r, p)  #C1=E1^r mod p\n",
    "C2=(M*pow(e2,r, p)) #C2=E2^r mod p\n",
    "\n",
    "#Ciphertext\n",
    "print(\"Ciphertext: (\", C1, \",\", C2, \")\")\n",
    "\n",
    "#Decryption\n",
    "K = pow(C1, d, p) #K=C1^d mod p\n",
    "K_inv = pow(K, -1, p) # applying invewwrse \n",
    "M_decrypted = (C2 * K_inv) % p\n",
    "\n",
    "print(\"Decrypted Message:\",M_decrypted)"
   ]
  },
  {
   "cell_type": "code",
   "execution_count": null,
   "id": "435c03ce",
   "metadata": {},
   "outputs": [],
   "source": []
  }
 ],
 "metadata": {
  "kernelspec": {
   "display_name": "Python 3",
   "language": "python",
   "name": "python3"
  },
  "language_info": {
   "codemirror_mode": {
    "name": "ipython",
    "version": 3
   },
   "file_extension": ".py",
   "mimetype": "text/x-python",
   "name": "python",
   "nbconvert_exporter": "python",
   "pygments_lexer": "ipython3",
   "version": "3.12.0"
  }
 },
 "nbformat": 4,
 "nbformat_minor": 5
}
