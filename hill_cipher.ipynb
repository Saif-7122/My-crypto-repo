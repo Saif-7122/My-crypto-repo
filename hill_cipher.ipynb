{
 "cells": [
  {
   "cell_type": "code",
   "execution_count": 2,
   "id": "6eb0bdc1",
   "metadata": {},
   "outputs": [
    {
     "name": "stdout",
     "output_type": "stream",
     "text": [
      "enter 4 numbers for 2x2 key matrix(row-wise)\n",
      " encrypted message: wwxf\n"
     ]
    }
   ],
   "source": [
    "#get key matrix from user\n",
    "def key_matrix():\n",
    "    print(\"enter 4 numbers for 2x2 key matrix(row-wise)\")\n",
    "    return [[int(input()) for _ in range(2)] for _ in range(2)]\n",
    "\n",
    "#hill cipher encryption function\n",
    "def hill_encrypt(message,key):\n",
    "    message = message.lower()\n",
    "    message = message.replace(\" \",\"\")\n",
    "\n",
    "    if len(message) %2 != 0: # if message lenght is odd add a dummy variable\n",
    "        message += 'x'\n",
    "\n",
    "    result = ''\n",
    "    for i in range(0, len(message), 2):\n",
    "        p1 = ord(message[i]) - ord('a')\n",
    "        p2 = ord(message[i+1]) - ord('a')  ##convert letter to number 0-25\n",
    "\n",
    "    #multiply 2x2 matrix with vector[p1,p2]\n",
    "        c1 = (key[0][0]*p1 + key[0][1]*p2)%26\n",
    "        c2 = (key[1][0]*p1 + key[1][1]*p2)%26 ## FORMULA FOR HILL CIPHER\n",
    "    \n",
    "    #convert back to letters\n",
    "        result += chr(c1 + ord('a'))+chr(c2 + ord('a'))\n",
    "    return result\n",
    "\n",
    "#Input & Encryption\n",
    "key = key_matrix() #get key matrix from user\n",
    "message = input(\"enter message to encrypt:\")\n",
    "encrypted_message= hill_encrypt(message,key)\n",
    "print(\" encrypted message:\",encrypted_message)"
   ]
  },
  {
   "cell_type": "code",
   "execution_count": null,
   "id": "d5939623",
   "metadata": {},
   "outputs": [],
   "source": [
    "#decryption (for matrix determinant)\n",
    "\n",
    "def mod_inverse(a,m):\n",
    "    for i in range(m):\n",
    "        if (a*i) % m ==1:\n",
    "            return i\n",
    "    return None\n",
    "\n",
    "#generating inverse of matrix mod 26\n",
    "def inverse_matrix(k):\n",
    "    det= (k[0][0]*k[1][1] - k[0][1]*k[1][0]) % 26\n",
    "    inv_det = mod_inverse(det,26) #find inverse of det mod 26\n",
    "\n",
    "    if inv_det == -1:\n",
    "        return \"matirx not invertible\"\n",
    "    \n",
    "    #apply formula for inverse of 2x2 matrix\n",
    "    return [[(k[1][1]*inv_det)%26, (-k[0][1]*inv_det)%26], \n",
    "            [(-k[1][0]*inv_det)%26, (k[0][0]*inv_det)%26]]\n",
    "    \n",
    "#hill cipher decryption function\n",
    "def hill_decrypt(message,key):\n",
    "    message = message.lower()\n",
    "    message = message.replace(\" \",\"\")\n",
    "\n",
    "    result = ''\n",
    "    for i in range(0, len(message), 2):\n",
    "        c1 = ord(message[i]) - ord('a')\n",
    "        c2 = ord(message[i+1]) - ord('a')  ##convert letter to number 0-25\n",
    "\n",
    "    #multiply 2x2 matrix with vector[c1,c2]\n",
    "        p1 = (key[0][0]*c1 + key[0][1]*c2)%26\n",
    "        p2 = (key[1][0]*c1 + key[1][1]*c2)%26 ## FORMULA FOR HILL CIPHER\n",
    "    \n",
    "    #convert back to letters\n",
    "        result += chr(p1 + ord('a'))+chr(p2 + ord('a'))\n",
    "    return result\n",
    "\n",
    "key = get_key_matrix()  # same key as encryption\n",
    "cipher = input(\"Enter encrypted text: \")\n",
    "decrypted = hill_decrypt(cipher, key)\n",
    "print(\"Decrypted message:\", decrypted)\n"
   ]
  }
 ],
 "metadata": {
  "kernelspec": {
   "display_name": "Python 3",
   "language": "python",
   "name": "python3"
  },
  "language_info": {
   "codemirror_mode": {
    "name": "ipython",
    "version": 3
   },
   "file_extension": ".py",
   "mimetype": "text/x-python",
   "name": "python",
   "nbconvert_exporter": "python",
   "pygments_lexer": "ipython3",
   "version": "3.12.0"
  }
 },
 "nbformat": 4,
 "nbformat_minor": 5
}
