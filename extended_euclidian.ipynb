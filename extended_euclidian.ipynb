{
 "cells": [
  {
   "cell_type": "code",
   "execution_count": 4,
   "id": "1613e929",
   "metadata": {},
   "outputs": [
    {
     "name": "stdout",
     "output_type": "stream",
     "text": [
      "GCD(1234, 12) = 2\n",
      "Coefficients x and y such that 1234*x + 12*y = 2\n",
      "x = -1, y = 103\n"
     ]
    }
   ],
   "source": [
    "# Define the extended Euclidean algorithm function\n",
    "def extended_gcd(a, b):\n",
    "    # Base case: if b is 0, gcd is a, and x=1, y=0\n",
    "    if b == 0:\n",
    "        return a, 1, 0  # gcd, x, y\n",
    "\n",
    "    # Recursive call: compute gcd of (b, a % b)\n",
    "    gcd, x1, y1 = extended_gcd(b, a % b)\n",
    "\n",
    "    # Update x and y using the results of the recursive call\n",
    "    x = y1\n",
    "    y = x1 - (a // b) * y1\n",
    "\n",
    "    # Return gcd and coefficients x, y\n",
    "    return gcd, x, y\n",
    "\n",
    "# Take input for 'a' from user\n",
    "a = int(input(\"Enter value of a: \"))\n",
    "\n",
    "# Take input for 'b' from user\n",
    "b = int(input(\"Enter value of b: \"))\n",
    "\n",
    "# Call the extended_gcd function with inputs a and b\n",
    "gcd, x, y = extended_gcd(a, b)\n",
    "\n",
    "# Print the gcd of a and b\n",
    "print(f\"GCD({a}, {b}) = {gcd}\")\n",
    "\n",
    "# Print the linear combination (Bezout's identity)\n",
    "print(f\"Coefficients x and y such that {a}*x + {b}*y = {gcd}\")\n",
    "\n",
    "# Print values of x and y\n",
    "print(f\"x = {x}, y = {y}\")\n"
   ]
  },
  {
   "cell_type": "code",
   "execution_count": 6,
   "id": "b71d5a13",
   "metadata": {},
   "outputs": [
    {
     "name": "stdout",
     "output_type": "stream",
     "text": [
      "1\n"
     ]
    }
   ],
   "source": [
    "# Define the extended euclidian algorithm function\n",
    "\n",
    "def extended_gcd(a,b):\n",
    "    if b == 0: # if b is 0, then gcd is a\n",
    "        return a,1,0  # gcd, x, y\n",
    "\n",
    "    #recursive call    \n",
    "    gcd, x1,y1 = extended_gcd(b, a%b)\n",
    "\n",
    "    #update x and y regularly\n",
    "\n",
    "    x = y1\n",
    "    y = x1 - (a//b) * y1\n",
    "    \n",
    "    #return gcd coefficients x and y\n",
    "    return gcd,x,y\n",
    "\n",
    "a=int(input(\"Enter value of a: \"))\n",
    "b=int(input(\"Enter value of b: \"))\n",
    "\n",
    "#call the function\n",
    "gcd, x, y = extended_gcd(a,b)\n",
    "\n",
    "#print only the gcd\n",
    "print(gcd)"
   ]
  },
  {
   "cell_type": "code",
   "execution_count": null,
   "id": "c54d5073",
   "metadata": {},
   "outputs": [],
   "source": []
  }
 ],
 "metadata": {
  "kernelspec": {
   "display_name": "Python 3",
   "language": "python",
   "name": "python3"
  },
  "language_info": {
   "codemirror_mode": {
    "name": "ipython",
    "version": 3
   },
   "file_extension": ".py",
   "mimetype": "text/x-python",
   "name": "python",
   "nbconvert_exporter": "python",
   "pygments_lexer": "ipython3",
   "version": "3.12.0"
  }
 },
 "nbformat": 4,
 "nbformat_minor": 5
}
